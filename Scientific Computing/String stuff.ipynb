{
 "cells": [
  {
   "cell_type": "markdown",
   "id": "1bc57152",
   "metadata": {},
   "source": [
    "### Building a Caesar cipher"
   ]
  },
  {
   "cell_type": "code",
   "execution_count": 1,
   "id": "dc649198",
   "metadata": {},
   "outputs": [
    {
     "data": {
      "text/plain": [
       "25"
      ]
     },
     "execution_count": 1,
     "metadata": {},
     "output_type": "execute_result"
    }
   ],
   "source": [
    "text = 'Hello World'\n",
    "shift = 3\n",
    "alphabet = 'abcdefghijklmnopqrstuvwxyz'\n",
    "alphabet.find('z')"
   ]
  },
  {
   "cell_type": "code",
   "execution_count": 2,
   "id": "37213b38",
   "metadata": {},
   "outputs": [
    {
     "data": {
      "text/plain": [
       "0"
      ]
     },
     "execution_count": 2,
     "metadata": {},
     "output_type": "execute_result"
    }
   ],
   "source": [
    "alphabet.find('a')"
   ]
  },
  {
   "cell_type": "code",
   "execution_count": 3,
   "id": "606667bb",
   "metadata": {},
   "outputs": [
    {
     "data": {
      "text/plain": [
       "-1"
      ]
     },
     "execution_count": 3,
     "metadata": {},
     "output_type": "execute_result"
    }
   ],
   "source": [
    "alphabet.find(text[0])"
   ]
  },
  {
   "cell_type": "code",
   "execution_count": 4,
   "id": "6442241f",
   "metadata": {},
   "outputs": [
    {
     "data": {
      "text/plain": [
       "7"
      ]
     },
     "execution_count": 4,
     "metadata": {},
     "output_type": "execute_result"
    }
   ],
   "source": [
    "index = alphabet.find(text[0].lower())\n",
    "index"
   ]
  },
  {
   "cell_type": "code",
   "execution_count": 5,
   "id": "b8a0a86e",
   "metadata": {},
   "outputs": [
    {
     "data": {
      "text/plain": [
       "'h'"
      ]
     },
     "execution_count": 5,
     "metadata": {},
     "output_type": "execute_result"
    }
   ],
   "source": [
    "shifted=alphabet[index]\n",
    "shifted"
   ]
  },
  {
   "cell_type": "code",
   "execution_count": 6,
   "id": "b98aa47d",
   "metadata": {},
   "outputs": [
    {
     "data": {
      "text/plain": [
       "'k'"
      ]
     },
     "execution_count": 6,
     "metadata": {},
     "output_type": "execute_result"
    }
   ],
   "source": [
    "shifted2 = alphabet[index + shift]\n",
    "shifted2"
   ]
  },
  {
   "cell_type": "code",
   "execution_count": null,
   "id": "bc0d107d",
   "metadata": {},
   "outputs": [],
   "source": [
    "for i in text:\n",
    "    a = alphabet.find(text[0].lower())\n",
    "    shifted = alphabet[index + shift]\n",
    "    "
   ]
  }
 ],
 "metadata": {
  "kernelspec": {
   "display_name": "venv",
   "language": "python",
   "name": "python3"
  },
  "language_info": {
   "codemirror_mode": {
    "name": "ipython",
    "version": 3
   },
   "file_extension": ".py",
   "mimetype": "text/x-python",
   "name": "python",
   "nbconvert_exporter": "python",
   "pygments_lexer": "ipython3",
   "version": "3.11.11"
  }
 },
 "nbformat": 4,
 "nbformat_minor": 5
}
